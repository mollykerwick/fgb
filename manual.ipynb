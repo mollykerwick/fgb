{
 "cells": [
  {
   "cell_type": "code",
   "execution_count": 1,
   "metadata": {},
   "outputs": [
    {
     "name": "stdout",
     "output_type": "stream",
     "text": [
      "Populating the interactive namespace from numpy and matplotlib\n"
     ]
    }
   ],
   "source": [
    "# Turning on inline plots -- just for use in ipython notebooks.\n",
    "%pylab inline"
   ]
  },
  {
   "cell_type": "markdown",
   "metadata": {},
   "source": [
    "# Initialization of a numerical experiment\n",
    "\n",
    "Before running a drifter simulation, a number of parameters need to be specified. Previous examples of this are set in `init.py`. Because these examples change over time, we'll go through a specific example here.\n"
   ]
  },
  {
   "cell_type": "code",
   "execution_count": 2,
   "metadata": {},
   "outputs": [
    {
     "name": "stderr",
     "output_type": "stream",
     "text": [
      "/Users/mollykerwick/miniconda3/envs/tabs/lib/python3.6/site-packages/cmocean/tools.py:76: MatplotlibDeprecationWarning: The is_string_like function was deprecated in version 2.1.\n",
      "  if not mpl.cbook.is_string_like(rgbin[0]):\n"
     ]
    }
   ],
   "source": [
    "# Normal Python libraries\n",
    "import numpy as np\n",
    "import netCDF4 as netCDF  # file format\n",
    "import tracpy\n",
    "import tracpy.plotting\n",
    "from tracpy.tracpy_class import Tracpy\n",
    "matplotlib.rcParams.update({'font.size': 20})"
   ]
  },
  {
   "cell_type": "markdown",
   "metadata": {},
   "source": [
    "## Model output\n",
    "\n",
    "Model output from a high resolution model of the Texas-Louisiana shelf for the years 2004-2012 is stored on a thredds server at the address in loc. This is freely accessible."
   ]
  },
  {
   "cell_type": "code",
   "execution_count": 3,
   "metadata": {},
   "outputs": [],
   "source": [
    "# Location of TXLA model output file and grid, on a thredds server.\n",
    "loc = 'http://barataria.tamu.edu:8080/thredds/dodsC/NcML/txla_hindcast_agg'"
   ]
  },
  {
   "cell_type": "markdown",
   "metadata": {},
   "source": [
    "## Time parameters\n",
    "\n",
    "Model output is known to occur every four hours. The default test here will start at 00:00 on November 25, 2009 and run for 5 days."
   ]
  },
  {
   "cell_type": "code",
   "execution_count": 4,
   "metadata": {},
   "outputs": [],
   "source": [
    "# Number of days to run the drifters.\n",
    "ndays = 3\n",
    "\n",
    "# Start date in date time formatting\n",
    "date = datetime.datetime(2009, 11, 25, 0)\n",
    "\n",
    "# Time between outputs\n",
    "tseas = 3600 # 1 hour between outputs, in seconds \n",
    "\n",
    "# Time units\n",
    "time_units = 'seconds since 1970-01-01'"
   ]
  },
  {
   "cell_type": "markdown",
   "metadata": {},
   "source": [
    "The TRACMASS algorithm updates the u and v flux fields using a linear combination of the previous and subsequent time step every time a drifter passes a grid cell wall, or when the time for the drifter has reached the time of the second model output time step. This maximum time allowed can be decreased using the `nsteps` parameter, which divides the time between model outputs into smaller pieces that then act as the maximum time the drifter can travel without the time fields being updated. The importance of this will depend on the grid size, velocity fields, and time between model outputs.\n",
    "\n",
    "Separately, the user can choose how often to sample the drifter tracks. Since each drifter can experience a different number of steps, the `N` parameter is used to divide up the time between model output according to how often to have plot points for the drifters. `N` does not affect the drifter paths; it only controls the interval of sampling the drifter tracks. Linear interpolation is used to output drifter positions at the same times."
   ]
  },
  {
   "cell_type": "code",
   "execution_count": 5,
   "metadata": {},
   "outputs": [],
   "source": [
    "# Sets a smaller limit than between model outputs for when to force interpolation if hasn't already occurred.\n",
    "nsteps = 5\n",
    "# Controls the sampling frequency of the drifter tracks.\n",
    "N = 1"
   ]
  },
  {
   "cell_type": "markdown",
   "metadata": {},
   "source": [
    "After initialization, drifters can be stepped forward or backward in time. Running backward in time essentially means that we change the sign of the velocity fields and step backward in the model output files (in which case we set (`ff=-1`). We'll move forward in time (`ff=1`)."
   ]
  },
  {
   "cell_type": "code",
   "execution_count": 6,
   "metadata": {},
   "outputs": [],
   "source": [
    "# Use ff = 1 for forward in time and ff = -1 for backward in time.\n",
    "ff = 1"
   ]
  },
  {
   "cell_type": "markdown",
   "metadata": {},
   "source": [
    "## Subgrid parameterization parameters\n",
    "\n",
    "An integer flag is used to control whether or not to use subgrid parameterization in the particle tracking, and if so, which kind.\n",
    "\n",
    "Options are:\n",
    "\n",
    "* `doturb=0` uses no sub grid parameterization and thus the drifters are passively advected according strictly to the output velocity fields\n",
    "* `doturb=1` adds to the current velocity fluxes parameterized turbulent velocity fluxes of the order of the current velocity fluxes\n",
    "* `doturb=2` adds to the calculated new drifter location a slightly displaced drifter location that is randomly placed based on a circle around the drifter location\n",
    "* `doturb=3` adds to the calculated new drifter location a slightly displaced drifter location that is randomly placed based on an ellipse of the bathymetry around the drifter location\n",
    "\n",
    "The horizontal and vertical diffusivities are set by the user. These values may or may not be used in the experiment depending on whether a subgrid parameterization is used, and, if so, which is used. The horizontal diffusivity value is used by all of the horizontal subgrid parameterizations. The vertical diffusivity is not used in the two-dimensional case. Since this experiment is not using either diffusivity values, they will be set to zero to avoid confusion.\n",
    "\n",
    "Appropriate values to use for this are currently being investigated using sensitivity studies on the Texas-Louisiana shelf. Some values have been used and compared in studies, and values can be calculated from physical drifters for a specific domain. This is on-going work! In a sensitivity study, a smaller value, like `ah=5`, leads to somewhat diffused results that are still very close to the non-diffusive case. A larger value of `ah=20` led to more diffused results that were still quite similar to the non-diffusive case."
   ]
  },
  {
   "cell_type": "code",
   "execution_count": 7,
   "metadata": {},
   "outputs": [],
   "source": [
    "ah = 0. # m^2/s HORIZONTAL\n",
    "av = 0. # m^2/s VERTICAL\n",
    "\n",
    "# turbulence/diffusion flag\n",
    "doturb = 0"
   ]
  },
  {
   "cell_type": "markdown",
   "metadata": {},
   "source": [
    "## File saving\n",
    "\n",
    "The input `name` will be used for saving the particle tracks into a netCDF file and for the figures."
   ]
  },
  {
   "cell_type": "code",
   "execution_count": 8,
   "metadata": {},
   "outputs": [],
   "source": [
    "# simulation name, used for saving results into netcdf file\n",
    "name = 'temp'"
   ]
  },
  {
   "cell_type": "markdown",
   "metadata": {},
   "source": [
    "### Vertical\n",
    "\n",
    "There are a number of options for the initial vertical placement of the drifters. The behavior is controlled by the combination of `z0` and `zpar`, and `do3d` must be set accordingly as well.\n",
    "\n",
    "The `do3d` flag controls whether or not drifters are allowed to move vertically or not:\n",
    "\n",
    "* `do3d=0` for two-dimensional particle tracking\n",
    "* `do3d=1` for three-dimensional particle tracking\n",
    "\n",
    "For 3D tracking, set `do3d=1` and `z0` should be an array of initial drifter depths. The array should be the same size as `lon0` and negative for under water. Currently, drifter depths need to be above the seabed for every (x, y) particle location for the script to run.\n",
    "\n",
    "To do 3D but start at surface, use `z0 = zeros(lon0.shape)` and have either `zpar='fromMSL'` so that `z0` starting depths represent that depth below the base, time-independent sea level (or mean sea level) or choose `zpar='fromZeta'` to have `z0` starting depths represent that depth below the time-dependent sea surface. Currently only the `zpar='fromZeta'` case is coded up.\n",
    "\n",
    "For 2D drifter movement, set `do3d=0`. Then there are the following options:\n",
    "\n",
    "* set z0 to 's' for 2D along a terrain-following slice and zpar to be the index of s level you want to use (0 to km-1)\n",
    "* set z0 to 'rho' for 2D along a density surface and zpar to be the density value you want to use. Can do the same thing with salinity ('salt') or temperature ('temp'). The model output doesn't currently have density.\n",
    "* set z0 to 'z' for 2D along a depth slice and zpar to be the constant (negative) depth value you want to use\n",
    "* To simulate drifters at the surface, set z0 to 's' and zpar = grid['km']-1 (whatever that value is) to put them in the upper s level. This is probably the most common option."
   ]
  },
  {
   "cell_type": "code",
   "execution_count": 9,
   "metadata": {},
   "outputs": [],
   "source": [
    "# for 3d flag, do3d=0 makes the run 2d and do3d=1 makes the run 3d\n",
    "# do3d = 0\n",
    "\n",
    "# ## Choose method for vertical placement of drifters\n",
    "# z0 = 's' # I know the size from checking #'s after eliminating those outside domain ' #'z' #'salt' #'s' \n",
    "# num_layers = 30\n",
    "# zpar = num_layers-1 # 29 #-10 #grid['km']-1 # 30 #grid['km']-1\n",
    "\n",
    "#### 3D Sample Options ####\n",
    "# for 3d flag, do3d=0 makes the run 2d and do3d=1 makes the run 3d\n",
    "do3d = 1\n",
    "\n",
    "## Choose method for vertical placement of drifters\n",
    "z0 = np.zeros(676) # I know the size from checking #'s after eliminating those outside domain ' #'z' #'salt' #'s' \n",
    "num_layers = 30\n",
    "zpar = 'fromZeta' #num_layers-1 # 29 #-10 #grid['km']-1 # 30 #grid['km']-1\n",
    "####"
   ]
  },
  {
   "cell_type": "markdown",
   "metadata": {},
   "source": [
    "### Initialize a projection\n",
    "\n",
    "In newer versions of `TracPy` (after 0.01), projection information has been separated from the grid information. So, you first set up a project, then use this to set up your grid. The function call is:\n",
    "\n",
    "> tracpy.tools.make_proj(setup='nwgom', usebasemap=True, **kwargs)\n",
    "\n",
    "where the keyword arguments include lat/lon inputs for the projection bounds, and there are several built in projections for convenience which can be altered:\n",
    "\n",
    "* 'nwgom' - for NW Gulf of Mexico, for use with basemap\n",
    "* 'galveston' - for Galveston Bay, for use with pyproj\n",
    "* 'nwgom-pyproj' - for NW Gulf of Mexico, for use without basemap\n"
   ]
  },
  {
   "cell_type": "code",
   "execution_count": 10,
   "metadata": {},
   "outputs": [],
   "source": [
    "proj = tracpy.tools.make_proj('nwgom-pyproj')"
   ]
  },
  {
   "cell_type": "markdown",
   "metadata": {},
   "source": [
    "## Initialize TracPy class"
   ]
  },
  {
   "cell_type": "code",
   "execution_count": 11,
   "metadata": {},
   "outputs": [],
   "source": [
    "# Read in grid\n",
    "grid = tracpy.inout.readgrid(loc, proj, usespherical=True)\n",
    "\n",
    "# Initialize Tracpy class\n",
    "tp = Tracpy(loc, grid, name=name, tseas=tseas, ndays=ndays, nsteps=nsteps,\n",
    "            N=N, ff=ff, ah=ah, av=av, doturb=doturb, do3d=do3d, z0=z0, zpar=zpar, time_units=time_units)"
   ]
  },
  {
   "cell_type": "markdown",
   "metadata": {},
   "source": [
    "## Drifter initialization\n",
    "\n",
    "### Horizontal\n",
    "\n",
    "Drifters are seeded by the latitude and longitude. A simple way to do this is to set up a mesh of points within a lat/lon box. In this case, we are looking at drifters starting throughout the TX-LA shelf domain. For the `linspace` function, we can play around with the number of points to control approximately how far apart the drifters begin. For this example, the number of points are about 20 km apart. \n",
    "\n",
    "After initializing these points, we can run them through a check script to eliminate points outside the domain (without this step, points outside the numerical domain will cause an error)."
   ]
  },
  {
   "cell_type": "code",
   "execution_count": 12,
   "metadata": {},
   "outputs": [
    {
     "name": "stdout",
     "output_type": "stream",
     "text": [
      "-- / 2695  drifters NaN-ed out.\n"
     ]
    }
   ],
   "source": [
    "# Input starting locations as real space lon,lat locations\n",
    "lon0, lat0 = np.meshgrid(np.linspace(-98.5,-87.5,55), \\\n",
    "                            np.linspace(22.5,31,49)) # whole domain, 20 km\n",
    "\n",
    "# Eliminate points that are outside domain or in masked areas\n",
    "lon0, lat0 = tracpy.tools.check_points(lon0, lat0, tp.grid)"
   ]
  },
  {
   "cell_type": "markdown",
   "metadata": {},
   "source": [
    "# Run the numerical experiment"
   ]
  },
  {
   "cell_type": "code",
   "execution_count": 13,
   "metadata": {},
   "outputs": [
    {
     "name": "stderr",
     "output_type": "stream",
     "text": [
      "/Users/mollykerwick/Documents/projects/tracpy/tracpy/inout.py:75: MatplotlibDeprecationWarning: The find function was deprecated in version 2.2.\n",
      "  istart = find(dates <= date)[-1]\n"
     ]
    },
    {
     "ename": "IndexError",
     "evalue": "only integers, slices (`:`), ellipsis (`...`), numpy.newaxis (`None`) and integer or boolean arrays are valid indices",
     "output_type": "error",
     "traceback": [
      "\u001b[0;31m---------------------------------------------------------------------------\u001b[0m",
      "\u001b[0;31mIndexError\u001b[0m                                Traceback (most recent call last)",
      "\u001b[0;32m<ipython-input-13-af5f1ed749e7>\u001b[0m in \u001b[0;36m<module>\u001b[0;34m()\u001b[0m\n\u001b[1;32m      1\u001b[0m \u001b[0;31m# Note in timing that the grid was already read in\u001b[0m\u001b[0;34m\u001b[0m\u001b[0;34m\u001b[0m\u001b[0m\n\u001b[0;32m----> 2\u001b[0;31m \u001b[0mlonp\u001b[0m\u001b[0;34m,\u001b[0m \u001b[0mlatp\u001b[0m\u001b[0;34m,\u001b[0m \u001b[0mzp\u001b[0m\u001b[0;34m,\u001b[0m \u001b[0mt\u001b[0m\u001b[0;34m,\u001b[0m \u001b[0mT0\u001b[0m\u001b[0;34m,\u001b[0m \u001b[0mU\u001b[0m\u001b[0;34m,\u001b[0m \u001b[0mV\u001b[0m \u001b[0;34m=\u001b[0m \u001b[0mtracpy\u001b[0m\u001b[0;34m.\u001b[0m\u001b[0mrun\u001b[0m\u001b[0;34m.\u001b[0m\u001b[0mrun\u001b[0m\u001b[0;34m(\u001b[0m\u001b[0mtp\u001b[0m\u001b[0;34m,\u001b[0m \u001b[0mdate\u001b[0m\u001b[0;34m,\u001b[0m \u001b[0mlon0\u001b[0m\u001b[0;34m,\u001b[0m \u001b[0mlat0\u001b[0m\u001b[0;34m)\u001b[0m\u001b[0;34m\u001b[0m\u001b[0m\n\u001b[0m",
      "\u001b[0;32m~/Documents/projects/tracpy/tracpy/run.py\u001b[0m in \u001b[0;36mrun\u001b[0;34m(tp, date, lon0, lat0, T0, U, V)\u001b[0m\n\u001b[1;32m     39\u001b[0m     \u001b[0;31m# Initialize everything for a simulation\u001b[0m\u001b[0;34m\u001b[0m\u001b[0;34m\u001b[0m\u001b[0m\n\u001b[1;32m     40\u001b[0m     \u001b[0mtinds\u001b[0m\u001b[0;34m,\u001b[0m \u001b[0mnc\u001b[0m\u001b[0;34m,\u001b[0m \u001b[0mt0save\u001b[0m\u001b[0;34m,\u001b[0m \u001b[0mxend\u001b[0m\u001b[0;34m,\u001b[0m \u001b[0myend\u001b[0m\u001b[0;34m,\u001b[0m\u001b[0;31m \u001b[0m\u001b[0;31m\\\u001b[0m\u001b[0;34m\u001b[0m\u001b[0m\n\u001b[0;32m---> 41\u001b[0;31m         \u001b[0mzend\u001b[0m\u001b[0;34m,\u001b[0m \u001b[0mzp\u001b[0m\u001b[0;34m,\u001b[0m \u001b[0mttend\u001b[0m\u001b[0;34m,\u001b[0m \u001b[0mflag\u001b[0m \u001b[0;34m=\u001b[0m \u001b[0mtp\u001b[0m\u001b[0;34m.\u001b[0m\u001b[0mprepare_for_model_run\u001b[0m\u001b[0;34m(\u001b[0m\u001b[0mdate\u001b[0m\u001b[0;34m,\u001b[0m \u001b[0mlon0\u001b[0m\u001b[0;34m,\u001b[0m \u001b[0mlat0\u001b[0m\u001b[0;34m)\u001b[0m\u001b[0;34m\u001b[0m\u001b[0m\n\u001b[0m\u001b[1;32m     42\u001b[0m \u001b[0;34m\u001b[0m\u001b[0m\n\u001b[1;32m     43\u001b[0m     \u001b[0mtimer\u001b[0m\u001b[0;34m.\u001b[0m\u001b[0maddtime\u001b[0m\u001b[0;34m(\u001b[0m\u001b[0;34m'1: Preparing for simulation   '\u001b[0m\u001b[0;34m)\u001b[0m\u001b[0;34m\u001b[0m\u001b[0m\n",
      "\u001b[0;32m~/Documents/projects/tracpy/tracpy/tracpy_class.py\u001b[0m in \u001b[0;36mprepare_for_model_run\u001b[0;34m(self, date, lon0, lat0)\u001b[0m\n\u001b[1;32m    336\u001b[0m                 \u001b[0;31m# drifter\u001b[0m\u001b[0;34m\u001b[0m\u001b[0;34m\u001b[0m\u001b[0m\n\u001b[1;32m    337\u001b[0m                 \u001b[0;32mfor\u001b[0m \u001b[0mi\u001b[0m \u001b[0;32min\u001b[0m \u001b[0mrange\u001b[0m\u001b[0;34m(\u001b[0m\u001b[0mia\u001b[0m\u001b[0;34m.\u001b[0m\u001b[0msize\u001b[0m\u001b[0;34m)\u001b[0m\u001b[0;34m:\u001b[0m\u001b[0;34m\u001b[0m\u001b[0m\n\u001b[0;32m--> 338\u001b[0;31m                     \u001b[0mind\u001b[0m \u001b[0;34m=\u001b[0m \u001b[0;34m(\u001b[0m\u001b[0mself\u001b[0m\u001b[0;34m.\u001b[0m\u001b[0mzwt\u001b[0m\u001b[0;34m[\u001b[0m\u001b[0;36m1\u001b[0m\u001b[0;34m,\u001b[0m \u001b[0;34m:\u001b[0m\u001b[0;34m,\u001b[0m \u001b[0mja\u001b[0m\u001b[0;34m[\u001b[0m\u001b[0mi\u001b[0m\u001b[0;34m]\u001b[0m\u001b[0;34m,\u001b[0m \u001b[0mia\u001b[0m\u001b[0;34m[\u001b[0m\u001b[0mi\u001b[0m\u001b[0;34m]\u001b[0m\u001b[0;34m]\u001b[0m \u001b[0;34m<=\u001b[0m \u001b[0mself\u001b[0m\u001b[0;34m.\u001b[0m\u001b[0mz0\u001b[0m\u001b[0;34m[\u001b[0m\u001b[0mi\u001b[0m\u001b[0;34m]\u001b[0m\u001b[0;34m)\u001b[0m\u001b[0;34m\u001b[0m\u001b[0m\n\u001b[0m\u001b[1;32m    339\u001b[0m                     \u001b[0;31m# find value that is just shallower than starting vertical\u001b[0m\u001b[0;34m\u001b[0m\u001b[0;34m\u001b[0m\u001b[0m\n\u001b[1;32m    340\u001b[0m                     \u001b[0;31m# position\u001b[0m\u001b[0;34m\u001b[0m\u001b[0;34m\u001b[0m\u001b[0m\n",
      "\u001b[0;31mIndexError\u001b[0m: only integers, slices (`:`), ellipsis (`...`), numpy.newaxis (`None`) and integer or boolean arrays are valid indices"
     ]
    }
   ],
   "source": [
    "# Note in timing that the grid was already read in\n",
    "lonp, latp, zp, t, T0, U, V = tracpy.run.run(tp, date, lon0, lat0)"
   ]
  },
  {
   "cell_type": "markdown",
   "metadata": {},
   "source": [
    "# Plotting the results\n",
    "\n",
    "Plots generated below by the user can be compared with those available in `tracpy/docs/figures`."
   ]
  },
  {
   "cell_type": "markdown",
   "metadata": {},
   "source": [
    "## Plot tracks"
   ]
  },
  {
   "cell_type": "code",
   "execution_count": null,
   "metadata": {},
   "outputs": [],
   "source": [
    "fig = plt.figure(figsize=(9.4, 7.7), dpi=100)\n",
    "ax = tracpy.plotting.background(grid, fig=fig, extent=[-98, -87.5, 22.8, 30.5],\n",
    "               col='lightgrey', halpha=1, outline=[1, 1, 0, 1], res='50m')\n",
    "tracpy.plotting.tracks(lonp, latp, tp.name, grid, fig=fig, ax=ax)"
   ]
  },
  {
   "cell_type": "code",
   "execution_count": null,
   "metadata": {},
   "outputs": [],
   "source": []
  }
 ],
 "metadata": {
  "kernelspec": {
   "display_name": "Python 3",
   "language": "python",
   "name": "python3"
  }
 },
 "nbformat": 4,
 "nbformat_minor": 1
}
