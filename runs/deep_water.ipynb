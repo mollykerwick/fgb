{
 "cells": [
  {
   "cell_type": "code",
   "execution_count": 1,
   "metadata": {},
   "outputs": [],
   "source": [
    "import numpy as np\n",
    "import tracpy"
   ]
  },
  {
   "cell_type": "code",
   "execution_count": 2,
   "metadata": {},
   "outputs": [],
   "source": [
    "loc = \"http://barataria.tamu.edu:8080/thredds/dodsC/NcML/txla_hindcast_agg\"\n",
    "proj = tracpy.tools.make_proj('nwgom-pyproj')\n",
    "grid = tracpy.inout.readgrid(loc, proj, usespherical=True)"
   ]
  },
  {
   "cell_type": "code",
   "execution_count": 3,
   "metadata": {},
   "outputs": [],
   "source": [
    "# Number of days to run the drifters.\n",
    "ndays = 5\n",
    "tseas = 3600 # 1 hour between outputs, in seconds \n",
    "time_units = 'seconds since 1970-01-01'\n",
    "nsteps = 5\n",
    "N = 1\n",
    "ff = -1\n",
    "ah = 0. # m^2/s HORIZONTAL\n",
    "av = 0. # m^2/s VERTICAL\n",
    "doturb = 0   # turbulence/diffusion flag\n",
    "#### 3D Sample Options ####\n",
    "# for 3d flag, do3d=0 makes the run 2d and do3d=1 makes the run 3d\n",
    "do3d = 1\n",
    "\n",
    "## Choose method for vertical placement of drifters\n",
    "zpar = 'fromZeta' # starting depth below the time-dependent sea surface\n",
    "####\n"
   ]
  },
  {
   "cell_type": "code",
   "execution_count": 4,
   "metadata": {},
   "outputs": [],
   "source": [
    "## East Bank\n",
    "# N: 27.98399444\n",
    "# E: -93.57083333\n",
    "# S: 27.88140000\n",
    "# W: -93.64472222       \n",
    "elon, elat = (-93.57083333-93.64472222) / 2. , (27.98399444+27.88140000) / 2.\n",
    "elonrange = max( abs( abs(elon)-93.57083333 ), abs( abs(elon)-93.64472222 ) )\n",
    "elatrange = max( abs( abs(elat)-27.98399444 ), abs( abs(elat)-27.88140000 ) )\n",
    "elonlow = elon - elonrange\n",
    "elonupp = elon + elonrange\n",
    "elatlow = elat - elatrange\n",
    "elatupp = elat + elatrange\n",
    "\n",
    "dx = 1000  # drifter spacing in meters \n",
    "ex, ey = proj([elonlow, elonupp], [elatlow, elatupp])\n",
    "eX, eY = np.meshgrid(np.arange(ex[0], ex[1], dx), np.arange(ey[0], ey[1], dx))"
   ]
  },
  {
   "cell_type": "code",
   "execution_count": 8,
   "metadata": {},
   "outputs": [],
   "source": [
    "zbot = np.array([-90])\n",
    "\n"
   ]
  },
  {
   "cell_type": "code",
   "execution_count": 9,
   "metadata": {},
   "outputs": [
    {
     "data": {
      "text/plain": [
       "(12,)"
      ]
     },
     "execution_count": 9,
     "metadata": {},
     "output_type": "execute_result"
    }
   ],
   "source": [
    "zbot.shape"
   ]
  },
  {
   "cell_type": "code",
   "execution_count": null,
   "metadata": {},
   "outputs": [],
   "source": [
    "eX, eY = np.meshgrid( np.arange(ex[0], ex[1], dx), np.arange(ey[0], ey[1], dx) )"
   ]
  }
 ],
 "metadata": {
  "kernelspec": {
   "display_name": "Python 3",
   "language": "python",
   "name": "python3"
  },
  "language_info": {
   "codemirror_mode": {
    "name": "ipython",
    "version": 3
   },
   "file_extension": ".py",
   "mimetype": "text/x-python",
   "name": "python",
   "nbconvert_exporter": "python",
   "pygments_lexer": "ipython3",
   "version": "3.6.4"
  }
 },
 "nbformat": 4,
 "nbformat_minor": 2
}
