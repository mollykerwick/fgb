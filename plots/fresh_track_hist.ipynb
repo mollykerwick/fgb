{
 "cells": [
  {
   "cell_type": "code",
   "execution_count": 1,
   "metadata": {},
   "outputs": [
    {
     "name": "stdout",
     "output_type": "stream",
     "text": [
      "Populating the interactive namespace from numpy and matplotlib\n"
     ]
    },
    {
     "name": "stderr",
     "output_type": "stream",
     "text": [
      "/opt/anaconda3/lib/python3.6/site-packages/cmocean/tools.py:76: MatplotlibDeprecationWarning: The is_string_like function was deprecated in version 2.1.\n",
      "  if not mpl.cbook.is_string_like(rgbin[0]):\n"
     ]
    }
   ],
   "source": [
    "%pylab inline\n",
    "import numpy as np\n",
    "import netCDF4 as netCDF\n",
    "import datetime\n",
    "import matplotlib.pyplot as plt\n",
    "import tracpy.tools\n",
    "import tracpy\n",
    "import cartopy.crs as ccrs\n",
    "import cmocean as cmo\n",
    "import cartopy\n",
    "import tracpy.plotting\n",
    "import octant\n",
    "from matplotlib import cm, colors"
   ]
  },
  {
   "cell_type": "code",
   "execution_count": 2,
   "metadata": {},
   "outputs": [],
   "source": [
    "proj = tracpy.tools.make_proj('nwgom-pyproj')\n",
    "loc = \"http://barataria.tamu.edu:8080/thredds/dodsC/NcML/txla_hindcast_agg\"\n",
    "grid = tracpy.inout.readgrid(loc, proj, usespherical=True)"
   ]
  },
  {
   "cell_type": "code",
   "execution_count": null,
   "metadata": {},
   "outputs": [],
   "source": [
    "years = np.arange(1994,2017)\n",
    "days = np.arange(1,32)\n",
    "\n",
    "a_lonps = np.empty( (37235,1441), int)\n",
    "a_latps = np.empty( (37235,1441), int)\n",
    "\n",
    "b_lonps = np.empty( (41448,1441), int)\n",
    "b_latps = np.empty( (41448,1441), int)\n",
    "\n",
    "m_lonps = np.empty( (9999,1441), int)\n",
    "m_latps = np.empty( (9999,1441), int)\n",
    "\n",
    "t_lonps = np.empty( (9999,1441), int)\n",
    "t_latps = np.empty( (9999,1441), int)\n",
    "\n",
    "a = 0\n",
    "b = 0\n",
    "m = 0\n",
    "t = 0\n",
    "\n",
    "for year in years:\n",
    "\n",
    "    for day in days:\n",
    "        print( day )\n",
    "        fname = \"tracks/%d/2d_July%d.nc\" %(year, day)\n",
    "        d = netCDF.Dataset(fname)\n",
    "        lonp = d[\"lonp\"][:]   # lonp[drifter,hour]\n",
    "        latp = d[\"latp\"][:]\n",
    "        \n",
    "        ig,jg,t = tracpy.tools.interpolate2d(lonp,latp,grid,\"d_ll2ij\")\n",
    "        \n",
    "        atch = np.unique(np.argwhere((jg > 110) & (ig > 400) & (ig < 500) & (jg.mask != True) & (ig.mask != True))[:,0])\n",
    "        braz = np.unique(np.argwhere((jg > 130) & (ig > 230) & (ig < 255) & (jg.mask != True) & (ig.mask != True))[:,0])\n",
    "        miss = np.unique(np.argwhere((jg > 25) & (ig > 550) & (ig < 615) & (jg.mask != True) & (ig.mask != True))[:,0])\n",
    "        trin = np.unique(np.argwhere((jg > 140) & (ig > 260) & (ig < 290) & (jg.mask != True) & (ig.mask != True))[:,0])            \n",
    "        \n",
    "#         print(trin.shape[0])\n",
    "        \n",
    "        for i in atch:\n",
    "            a_lonps[i] = lonp[i]\n",
    "            a_latps[i] = latp[i]\n",
    "            \n",
    "        for i in braz:\n",
    "            b_lonps[i] = lonp[i]\n",
    "            b_latps[i] = latp[i]\n",
    "            \n",
    "        for i in miss:\n",
    "            m_lonps[i] = lonp[i]\n",
    "            m_latps[i] = latp[i]\n",
    "            \n",
    "        for i in trin:\n",
    "            print(i)\n",
    "            t_lonps[i] = lonp[i]\n",
    "            t_latps[i] = latp[i]\n",
    "\n",
    "        a += atch.shape[0]\n",
    "        b += braz.shape[0]\n",
    "        m += miss.shape[0]\n",
    "        t += trin.shape[0]\n",
    "            \n",
    "        \n",
    "\n",
    "#         a_lonps[year] = np.append( a_lonps[year], lonp[atch], axis=0 )\n",
    "#         a_latps[year] = np.append( a_latps[year], latp[atch], axis=0 )\n",
    "        \n",
    "#         b_lonps[year] = np.append( b_lonps[year], lonp[braz], axis=0 )\n",
    "#         b_latps[year] = np.append( b_latps[year], latp[braz], axis=0 )\n",
    "        \n",
    "#         m_lonps[year] = np.append( m_lonps[year], lonp[miss], axis=0 )\n",
    "#         m_latps[year] = np.append( m_latps[year], latp[miss], axis=0 )\n",
    "        \n",
    "#         t_lonps[year] = np.append( t_lonps[year], lonp[trin], axis=0 )\n",
    "#         t_latps[year] = np.append( t_latps[year], latp[trin], axis=0 )\n",
    "    "
   ]
  }
 ],
 "metadata": {
  "kernelspec": {
   "display_name": "Python 3",
   "language": "python",
   "name": "python3"
  },
  "language_info": {
   "codemirror_mode": {
    "name": "ipython",
    "version": 3
   },
   "file_extension": ".py",
   "mimetype": "text/x-python",
   "name": "python",
   "nbconvert_exporter": "python",
   "pygments_lexer": "ipython3",
   "version": "3.6.4"
  }
 },
 "nbformat": 4,
 "nbformat_minor": 2
}
